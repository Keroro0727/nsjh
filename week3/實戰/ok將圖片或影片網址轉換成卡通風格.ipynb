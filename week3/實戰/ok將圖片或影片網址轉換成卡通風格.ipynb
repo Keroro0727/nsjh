{
  "nbformat": 4,
  "nbformat_minor": 0,
  "metadata": {
    "colab": {
      "name": "將圖片或影片網址轉換成卡通風格.ipynb",
      "provenance": [],
      "collapsed_sections": []
    },
    "kernelspec": {
      "name": "python3",
      "display_name": "Python 3"
    },
    "accelerator": "GPU"
  },
  "cells": [
    {
      "cell_type": "markdown",
      "metadata": {
        "id": "OehP0R225Dyf"
      },
      "source": [
        "\n",
        "\n",
        "---\n",
        "\n",
        "# **下面這儲存格只要執行一次就可以了**\n",
        "\n",
        "\n",
        "---\n",
        "\n"
      ]
    },
    {
      "cell_type": "code",
      "metadata": {
        "id": "KVK0kiqcUEh8",
        "colab": {
          "base_uri": "https://localhost:8080/",
          "height": 35
        },
        "outputId": "f7060e3f-32a9-4f46-e3bd-a8b823653662"
      },
      "source": [
        "import os\n",
        "repo = \"CartoonGan-tensorflow\"\n",
        "!git clone https://github.com/mnicnc404/{repo}.git\n",
        "os.chdir(os.path.join(repo))\n",
        "!ls | grep cartoonize.py\n",
        "from IPython.display import clear_output, display, Image\n",
        "!git clone https://www.github.com/keras-team/keras-contrib.git \\\n",
        "    && cd keras-contrib \\\n",
        "    && python convert_to_tf_keras.py \\\n",
        "    && USE_TF_KERAS=1 python setup.py install\n",
        "clear_output()\n",
        "import tensorflow as tf\n",
        "tf.__version__"
      ],
      "execution_count": 1,
      "outputs": [
        {
          "output_type": "execute_result",
          "data": {
            "application/vnd.google.colaboratory.intrinsic+json": {
              "type": "string"
            },
            "text/plain": [
              "'2.3.0'"
            ]
          },
          "metadata": {
            "tags": []
          },
          "execution_count": 1
        }
      ]
    },
    {
      "cell_type": "markdown",
      "metadata": {
        "id": "X6N7rghuvE_h"
      },
      "source": [
        "---\n",
        "\n",
        "# 請在這邊把想要使用的網址填入!!!!\n",
        "\n",
        "---\n",
        "\n",
        "\n",
        "\n",
        "\n",
        "\n"
      ]
    },
    {
      "cell_type": "code",
      "metadata": {
        "id": "cq11iHl2unE8"
      },
      "source": [
        "image_url = 'https://raw.githubusercontent.com/Keroro0727/Python2020/main/IMG_0259.JPG'  #@param {type: \"string\"}\n",
        "\n",
        "#範例gif:  https://media.giphy.com/media/o5HKScC1PflLO/giphy.gif\n",
        "#範例png:  https://n.sinaimg.cn/sinakd10118/341/w650h491/20200821/7923-iyaiihk8459061.png"
      ],
      "execution_count": 2,
      "outputs": []
    },
    {
      "cell_type": "code",
      "metadata": {
        "id": "QG22Lmj7fCkT",
        "colab": {
          "base_uri": "https://localhost:8080/"
        },
        "outputId": "24491faf-3fda-4975-f761-86bc66dd4589"
      },
      "source": [
        "input_image_dir = \"input_images\"\n",
        "output_image_dir = input_image_dir.replace(\"input_\", \"output_\")\n",
        "\n",
        "import time\n",
        "if image_url:\n",
        "    img_filename = image_url.split(\"/\")[-1]\n",
        "    name, ext = '.'.join(img_filename.split(\".\")[:-1]), img_filename.split(\".\")[-1]\n",
        "    new_name = '_'.join((name, str(int(time.time()))))\n",
        "    new_img_filename = '.'.join((new_name, ext))\n",
        "    image_path = os.path.join(input_image_dir, new_img_filename)\n",
        "    \n",
        "    !wget {image_url} \\\n",
        "        && mv {img_filename} {new_img_filename} \\\n",
        "        && mv {new_img_filename} {image_path}\n",
        "# a trick to show gif in notebook\n",
        "if \".gif\" in new_img_filename:\n",
        "    png_path = new_img_filename + '.png'\n",
        "    !cp {image_path} {png_path}\n",
        "if \".png\" in new_img_filename:\n",
        "    png_path = new_img_filename + '.png'\n",
        "    !cp {image_path} {png_path}"
      ],
      "execution_count": 3,
      "outputs": [
        {
          "output_type": "stream",
          "text": [
            "--2020-12-08 06:35:31--  https://raw.githubusercontent.com/Keroro0727/Python2020/main/IMG_0259.JPG\n",
            "Resolving raw.githubusercontent.com (raw.githubusercontent.com)... 151.101.0.133, 151.101.64.133, 151.101.128.133, ...\n",
            "Connecting to raw.githubusercontent.com (raw.githubusercontent.com)|151.101.0.133|:443... connected.\n",
            "HTTP request sent, awaiting response... 200 OK\n",
            "Length: 65868 (64K) [image/jpeg]\n",
            "Saving to: ‘IMG_0259.JPG’\n",
            "\n",
            "\rIMG_0259.JPG          0%[                    ]       0  --.-KB/s               \rIMG_0259.JPG        100%[===================>]  64.32K  --.-KB/s    in 0.001s  \n",
            "\n",
            "2020-12-08 06:35:31 (53.2 MB/s) - ‘IMG_0259.JPG’ saved [65868/65868]\n",
            "\n"
          ],
          "name": "stdout"
        }
      ]
    },
    {
      "cell_type": "markdown",
      "metadata": {
        "id": "x-GxqHLs1goz"
      },
      "source": [
        "\n",
        "\n",
        "---\n",
        "# **顯示使用的gif或png**\n",
        "\n",
        "\n",
        "\n",
        "---\n",
        "\n"
      ]
    },
    {
      "cell_type": "code",
      "metadata": {
        "id": "ggLeaT5GkhHR",
        "colab": {
          "base_uri": "https://localhost:8080/",
          "height": 165
        },
        "outputId": "a3840c93-7b6a-45d9-b56e-323628e1911f"
      },
      "source": [
        "display(Image(png_path))"
      ],
      "execution_count": 4,
      "outputs": [
        {
          "output_type": "error",
          "ename": "NameError",
          "evalue": "ignored",
          "traceback": [
            "\u001b[0;31m---------------------------------------------------------------------------\u001b[0m",
            "\u001b[0;31mNameError\u001b[0m                                 Traceback (most recent call last)",
            "\u001b[0;32m<ipython-input-4-feb6b86a70d9>\u001b[0m in \u001b[0;36m<module>\u001b[0;34m()\u001b[0m\n\u001b[0;32m----> 1\u001b[0;31m \u001b[0mdisplay\u001b[0m\u001b[0;34m(\u001b[0m\u001b[0mImage\u001b[0m\u001b[0;34m(\u001b[0m\u001b[0mpng_path\u001b[0m\u001b[0;34m)\u001b[0m\u001b[0;34m)\u001b[0m\u001b[0;34m\u001b[0m\u001b[0;34m\u001b[0m\u001b[0m\n\u001b[0m",
            "\u001b[0;31mNameError\u001b[0m: name 'png_path' is not defined"
          ]
        }
      ]
    },
    {
      "cell_type": "markdown",
      "metadata": {
        "id": "4BjIPZ2M19_O"
      },
      "source": [
        "\n",
        "\n",
        "---\n",
        "\n",
        "# **選擇要轉換的風格種類**\n",
        "\n",
        "shinkai:新海誠\n",
        "\n",
        "hayao:宮崎駿\n",
        "\n",
        "hosoda:細田守\n",
        "\n",
        "paprika:甜椒花\n",
        "\n",
        "---\n",
        "\n"
      ]
    },
    {
      "cell_type": "code",
      "metadata": {
        "id": "tMwfHOtMrMZ7"
      },
      "source": [
        "styles = \"shinkai\" #@param [\"shinkai\", \"hayao\", \"hosoda\", \"paprika\"]"
      ],
      "execution_count": null,
      "outputs": []
    },
    {
      "cell_type": "code",
      "metadata": {
        "id": "gXZDnavco7WL"
      },
      "source": [
        "!python cartoonize.py \\\n",
        "    --styles {styles} \\\n",
        "    --batch_size 1 \\\n",
        "    --comparison_view horizontal\n",
        "clear_output()"
      ],
      "execution_count": null,
      "outputs": []
    },
    {
      "cell_type": "code",
      "metadata": {
        "id": "uZPv25hzgphl"
      },
      "source": [
        "if img_filename:\n",
        "    if \".gif\" in img_filename:\n",
        "        generated_gif = os.path.join(output_image_dir, \"comparison\", new_img_filename)\n",
        "        result_path = generated_gif + '.png'\n",
        "        !cp {generated_gif} {result_path}\n",
        "    else:\n",
        "        result_path = os.path.join(output_image_dir, \"comparison\", new_img_filename)"
      ],
      "execution_count": null,
      "outputs": []
    },
    {
      "cell_type": "markdown",
      "metadata": {
        "id": "Do3oJiCQ1pTx"
      },
      "source": [
        "\n",
        "\n",
        "---\n",
        "\n",
        "# **顯示成果**\n",
        "\n",
        "\n",
        "\n",
        "---\n",
        "\n"
      ]
    },
    {
      "cell_type": "code",
      "metadata": {
        "id": "4ZX1qmFdgpV6",
        "colab": {
          "base_uri": "https://localhost:8080/",
          "height": 165
        },
        "outputId": "05edaac7-967b-4c00-b3e0-961c3d1ffe84"
      },
      "source": [
        "display(Image(result_path))"
      ],
      "execution_count": 5,
      "outputs": [
        {
          "output_type": "error",
          "ename": "NameError",
          "evalue": "ignored",
          "traceback": [
            "\u001b[0;31m---------------------------------------------------------------------------\u001b[0m",
            "\u001b[0;31mNameError\u001b[0m                                 Traceback (most recent call last)",
            "\u001b[0;32m<ipython-input-5-12b5c4604792>\u001b[0m in \u001b[0;36m<module>\u001b[0;34m()\u001b[0m\n\u001b[0;32m----> 1\u001b[0;31m \u001b[0mdisplay\u001b[0m\u001b[0;34m(\u001b[0m\u001b[0mImage\u001b[0m\u001b[0;34m(\u001b[0m\u001b[0mresult_path\u001b[0m\u001b[0;34m)\u001b[0m\u001b[0;34m)\u001b[0m\u001b[0;34m\u001b[0m\u001b[0;34m\u001b[0m\u001b[0m\n\u001b[0m",
            "\u001b[0;31mNameError\u001b[0m: name 'result_path' is not defined"
          ]
        }
      ]
    }
  ]
}